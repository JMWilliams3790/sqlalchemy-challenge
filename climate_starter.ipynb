{
 "cells": [
  {
   "cell_type": "code",
   "execution_count": 1,
   "metadata": {},
   "outputs": [],
   "source": [
    "%matplotlib inline\n",
    "from matplotlib import style\n",
    "style.use('fivethirtyeight')\n",
    "import matplotlib.pyplot as plt"
   ]
  },
  {
   "cell_type": "code",
   "execution_count": 2,
   "metadata": {},
   "outputs": [],
   "source": [
    "import numpy as np\n",
    "import pandas as pd"
   ]
  },
  {
   "cell_type": "code",
   "execution_count": 3,
   "metadata": {},
   "outputs": [],
   "source": [
    "import datetime as dt"
   ]
  },
  {
   "cell_type": "markdown",
   "metadata": {},
   "source": [
    "# Reflect Tables into SQLAlchemy ORM"
   ]
  },
  {
   "cell_type": "code",
   "execution_count": 4,
   "metadata": {},
   "outputs": [],
   "source": [
    "# Python SQL toolkit and Object Relational Mapper\n",
    "import sqlalchemy\n",
    "from sqlalchemy.ext.automap import automap_base\n",
    "from sqlalchemy.orm import Session\n",
    "from sqlalchemy import create_engine, func"
   ]
  },
  {
   "cell_type": "code",
   "execution_count": 5,
   "metadata": {},
   "outputs": [],
   "source": [
    "engine = create_engine(\"sqlite:///Resources/hawaii.sqlite\")"
   ]
  },
  {
   "cell_type": "code",
   "execution_count": 6,
   "metadata": {},
   "outputs": [],
   "source": [
    "# reflect an existing database into a new model\n",
    "Base = automap_base()\n",
    "# reflect the tables\n",
    "Base.prepare(engine, reflect=True)"
   ]
  },
  {
   "cell_type": "code",
   "execution_count": 7,
   "metadata": {},
   "outputs": [
    {
     "data": {
      "text/plain": [
       "['measurement', 'station']"
      ]
     },
     "execution_count": 7,
     "metadata": {},
     "output_type": "execute_result"
    }
   ],
   "source": [
    "# We can view all of the classes that automap found\n",
    "Base.classes.keys()"
   ]
  },
  {
   "cell_type": "code",
   "execution_count": 8,
   "metadata": {},
   "outputs": [],
   "source": [
    "# Save references to each table\n",
    "Measurements = Base.classes.measurement\n",
    "Stations = Base.classes.station"
   ]
  },
  {
   "cell_type": "code",
   "execution_count": 9,
   "metadata": {},
   "outputs": [],
   "source": [
    "# Create our session (link) from Python to the DB\n",
    "session = Session(engine)"
   ]
  },
  {
   "cell_type": "markdown",
   "metadata": {},
   "source": [
    "# Exploratory Climate Analysis"
   ]
  },
  {
   "cell_type": "code",
   "execution_count": 10,
   "metadata": {
    "scrolled": false
   },
   "outputs": [
    {
     "data": {
      "text/plain": [
       "Text(0, 0.5, 'Inches')"
      ]
     },
     "execution_count": 10,
     "metadata": {},
     "output_type": "execute_result"
    },
    {
     "data": {
      "image/png": "[encoded data removed]",
      "text/plain": [
       "<Figure size 432x288 with 1 Axes>"
      ]
     },
     "metadata": {},
     "output_type": "display_data"
    }
   ],
   "source": [
    "# Design a query to retrieve the last 12 months of precipitation data and plot the results\n",
    "session.query(Measurements.date).order_by(Measurements.date.desc()).first()\n",
    "# Calculate the date 1 year ago from the last data point in the database\n",
    "\n",
    "session.query(Measurements.date).\\\n",
    "    filter(Measurements.date >= '2016-08-23', Measurements.date <= '2017-08-23').\\\n",
    "    order_by(Measurements.date.desc()).all()\n",
    "# Perform a query to retrieve the data and precipitation scores\n",
    "query_date = dt.date(2016, 8, 23)\n",
    "\n",
    "hawaiidata = session.query(Measurements.station, Measurements.date, Measurements.prcp).\\\n",
    "    filter(Measurements.date >= query_date).all()\n",
    "# Save the query results as a Pandas DataFrame and set the index to the date column\n",
    "HawaiiPrcpDf = pd.DataFrame(hawaiidata, columns = [\"Station\", \"Date\", \"Precipitation\"])\n",
    "# Sort the dataframe by date\n",
    "\n",
    "HawaiiPrcpDf = HawaiiPrcpDf.sort_values(\"Date\", ascending = True)\n",
    "# Use Pandas Plotting with Matplotlib to plot the data\n",
    "HawaiiPrcpDf.plot.line(x=\"Date\", y=\"Precipitation\", rot= 90)\n",
    "plt.ylabel(\"Inches\")"
   ]
  },
  {
   "cell_type": "code",
   "execution_count": 11,
   "metadata": {},
   "outputs": [
    {
     "data": {
      "text/html": [
       "<div>\n",
       "<style scoped>\n",
       "    .dataframe tbody tr th:only-of-type {\n",
       "        vertical-align: middle;\n",
       "    }\n",
       "\n",
       "    .dataframe tbody tr th {\n",
       "        vertical-align: top;\n",
       "    }\n",
       "\n",
       "    .dataframe thead th {\n",
       "        text-align: right;\n",
       "    }\n",
       "</style>\n",
       "<table border=\"1\" class=\"dataframe\">\n",
       "  <thead>\n",
       "    <tr style=\"text-align: right;\">\n",
       "      <th></th>\n",
       "      <th>Precipitation</th>\n",
       "    </tr>\n",
       "  </thead>\n",
       "  <tbody>\n",
       "    <tr>\n",
       "      <th>count</th>\n",
       "      <td>2021.000000</td>\n",
       "    </tr>\n",
       "    <tr>\n",
       "      <th>mean</th>\n",
       "      <td>0.177279</td>\n",
       "    </tr>\n",
       "    <tr>\n",
       "      <th>std</th>\n",
       "      <td>0.461190</td>\n",
       "    </tr>\n",
       "    <tr>\n",
       "      <th>min</th>\n",
       "      <td>0.000000</td>\n",
       "    </tr>\n",
       "    <tr>\n",
       "      <th>25%</th>\n",
       "      <td>0.000000</td>\n",
       "    </tr>\n",
       "    <tr>\n",
       "      <th>50%</th>\n",
       "      <td>0.020000</td>\n",
       "    </tr>\n",
       "    <tr>\n",
       "      <th>75%</th>\n",
       "      <td>0.130000</td>\n",
       "    </tr>\n",
       "    <tr>\n",
       "      <th>max</th>\n",
       "      <td>6.700000</td>\n",
       "    </tr>\n",
       "  </tbody>\n",
       "</table>\n",
       "</div>"
      ],
      "text/plain": [
       "       Precipitation\n",
       "count    2021.000000\n",
       "mean        0.177279\n",
       "std         0.461190\n",
       "min         0.000000\n",
       "25%         0.000000\n",
       "50%         0.020000\n",
       "75%         0.130000\n",
       "max         6.700000"
      ]
     },
     "execution_count": 11,
     "metadata": {},
     "output_type": "execute_result"
    }
   ],
   "source": [
    "# Use Pandas to calcualte the summary statistics for the precipitation data\n",
    "HawaiiPrcpDf.describe()"
   ]
  },
  {
   "cell_type": "code",
   "execution_count": 12,
   "metadata": {},
   "outputs": [
    {
     "name": "stdout",
     "output_type": "stream",
     "text": [
      "There are 9 stations\n"
     ]
    }
   ],
   "source": [
    "# Design a query to show how many stations are available in this dataset?\n",
    "StationCount = session.query(Stations.station).count()\n",
    "print(f\"There are {StationCount} stations\")"
   ]
  },
  {
   "cell_type": "code",
   "execution_count": 13,
   "metadata": {},
   "outputs": [
    {
     "name": "stdout",
     "output_type": "stream",
     "text": [
      "SELECT measurement.station, station.name, count(measurement.station) AS count_1 \n",
      "FROM measurement, station \n",
      "WHERE station.station = measurement.station GROUP BY measurement.station ORDER BY count(measurement.station) DESC\n",
      "USC00519281 WAIHEE 837.5, HI US 2772\n",
      "USC00519397 WAIKIKI 717.2, HI US 2724\n",
      "USC00513117 KANEOHE 838.1, HI US 2709\n",
      "USC00519523 WAIMANALO EXPERIMENTAL FARM, HI US 2669\n",
      "USC00516128 MANOA LYON ARBO 785.2, HI US 2612\n",
      "USC00514830 KUALOA RANCH HEADQUARTERS 886.9, HI US 2202\n",
      "USC00511918 HONOLULU OBSERVATORY 702.2, HI US 1979\n",
      "USC00517948 PEARL CITY, HI US 1372\n",
      "USC00518838 UPPER WAHIAWA 874.3, HI US 511\n"
     ]
    }
   ],
   "source": [
    "# What are the most active stations? (i.e. what stations have the most rows)?\n",
    "# List the stations and the counts in descending order.\n",
    "StationActivity = session.query(Measurements.station, Stations.name, func.count(Measurements.station)).\\\n",
    "    filter(Stations.station == Measurements.station).group_by(Measurements.station).\\\n",
    "    order_by(func.count(Measurements.station).desc())\n",
    "print(StationActivity.statement.compile())\n",
    "for station, name, count in StationActivity.all():\n",
    "    print(f\"{station} {name} {count}\")"
   ]
  },
  {
   "cell_type": "code",
   "execution_count": 14,
   "metadata": {},
   "outputs": [
    {
     "name": "stdout",
     "output_type": "stream",
     "text": [
      "SELECT measurement.station, station.name, max(measurement.tobs) AS max_1, min(measurement.tobs) AS min_1, avg(measurement.tobs) AS avg_1 \n",
      "FROM measurement, station \n",
      "WHERE station.station = measurement.station AND measurement.station = :station_1 GROUP BY measurement.station\n",
      "USC00519281 WAIHEE 837.5, HI US 85.0 54.0 71.66378066378067\n"
     ]
    }
   ],
   "source": [
    "# Using the station id from the previous query, calculate the lowest temperature recorded,\n",
    "StationActivity = session.query(Measurements.station, Stations.name, func.count(Measurements.station)).\\\n",
    "    filter(Stations.station == Measurements.station).group_by(Measurements.station).\\\n",
    "    order_by(func.count(Measurements.station).desc())\n",
    "station, name, count = StationActivity.first()\n",
    "# highest temperature recorded, and average temperature of the most active station?\n",
    "query = session.query(Measurements.station, Stations.name, func.max(Measurements.tobs),\\\n",
    "                      func.min(Measurements.tobs),func.avg(Measurements.tobs)).\\\n",
    "                        filter(Stations.station == Measurements.station, Measurements.station == station).group_by(Measurements.station)\n",
    "print(query.statement.compile())\n",
    "station, name, max, min, average = query.first()\n",
    "print(f\"{station} {name} {max} {min} {average}\")"
   ]
  },
  {
   "cell_type": "code",
   "execution_count": 15,
   "metadata": {},
   "outputs": [
    {
     "name": "stdout",
     "output_type": "stream",
     "text": [
      "SELECT measurement.date \n",
      "FROM measurement \n",
      "WHERE measurement.station = :station_1 ORDER BY measurement.date DESC\n"
     ]
    },
    {
     "data": {
      "text/plain": [
       "('2017-08-18')"
      ]
     },
     "execution_count": 15,
     "metadata": {},
     "output_type": "execute_result"
    }
   ],
   "source": [
    "# Choose the station with the highest number of temperature observations.\n",
    "# Query the last 12 months of temperature observation data for this station and plot the results as a histogram\n",
    "tempQuery = session.query(Measurements.date).filter(Measurements.station == station).\\\n",
    "            order_by(Measurements.date.desc())\n",
    "print(tempQuery.statement.compile())\n",
    "tempQuery.first()"
   ]
  },
  {
   "cell_type": "code",
   "execution_count": 16,
   "metadata": {},
   "outputs": [
    {
     "name": "stdout",
     "output_type": "stream",
     "text": [
      "2017-08-18 2016-08-18 USC00519281\n",
      "SELECT measurement.date, measurement.tobs \n",
      "FROM measurement \n",
      "WHERE measurement.station = :station_1 AND measurement.date >= :date_1 AND measurement.date <= :date_2 ORDER BY measurement.date\n"
     ]
    },
    {
     "data": {
      "text/plain": [
       "<matplotlib.axes._subplots.AxesSubplot at 0x1e55f990780>"
      ]
     },
     "execution_count": 16,
     "metadata": {},
     "output_type": "execute_result"
    },
    {
     "data": {
      "image/png": "[encoded data removed]",
      "text/plain": [
       "<Figure size 432x288 with 1 Axes>"
      ]
     },
     "metadata": {},
     "output_type": "display_data"
    }
   ],
   "source": [
    "maxQuery, yearAgo = session.query(func.max(Measurements.date),func.date(func.max(Measurements.date), \"-12 months\")).filter(Measurements.station == station).first()\n",
    "print(maxQuery, yearAgo, station)\n",
    "results = session.query(Measurements.date, Measurements.tobs).filter(Measurements.station == station, Measurements.date >= yearAgo, Measurements.date <= maxQuery).\\\n",
    "            order_by(Measurements.date)\n",
    "\n",
    "print(results.statement.compile())\n",
    "tempQuery = results.all()\n",
    "TempQueryDf = pd.DataFrame(tempQuery, columns = [\"Date\", \"Temperature\"])\n",
    "TempQueryDf.plot.hist(bins = 12)\n"
   ]
  },
  {
   "cell_type": "markdown",
   "metadata": {},
   "source": [
    "## Bonus Challenge Assignment"
   ]
  },
  {
   "cell_type": "code",
   "execution_count": 17,
   "metadata": {},
   "outputs": [
    {
     "name": "stdout",
     "output_type": "stream",
     "text": [
      "[(62.0, 69.57142857142857, 74.0)]\n"
     ]
    }
   ],
   "source": [
    "# This function called `calc_temps` will accept start date and end date in the format '%Y-%m-%d' \n",
    "# and return the minimum, average, and maximum temperatures for that range of dates\n",
    "def calc_temps(start_date, end_date):\n",
    "    \"\"\"TMIN, TAVG, and TMAX for a list of dates.\n",
    "    \n",
    "    Args:\n",
    "        start_date (string): A date string in the format %Y-%m-%d\n",
    "        end_date (string): A date string in the format %Y-%m-%d\n",
    "        \n",
    "    Returns:\n",
    "        TMIN, TAVE, and TMAX\n",
    "    \"\"\"\n",
    "    \n",
    "    return session.query(func.min(Measurements.tobs), func.avg(Measurements.tobs), func.max(Measurements.tobs)).\\\n",
    "        filter(Measurements.date >= start_date).filter(Measurements.date <= end_date).all()\n",
    "\n",
    "# function usage example\n",
    "print(calc_temps('2012-02-28', '2012-03-05'))"
   ]
  },
  {
   "cell_type": "code",
   "execution_count": 18,
   "metadata": {},
   "outputs": [
    {
     "data": {
      "text/html": [
       "<div>\n",
       "<style scoped>\n",
       "    .dataframe tbody tr th:only-of-type {\n",
       "        vertical-align: middle;\n",
       "    }\n",
       "\n",
       "    .dataframe tbody tr th {\n",
       "        vertical-align: top;\n",
       "    }\n",
       "\n",
       "    .dataframe thead th {\n",
       "        text-align: right;\n",
       "    }\n",
       "</style>\n",
       "<table border=\"1\" class=\"dataframe\">\n",
       "  <thead>\n",
       "    <tr style=\"text-align: right;\">\n",
       "      <th></th>\n",
       "      <th>Minimum Temp</th>\n",
       "      <th>Average Temp</th>\n",
       "      <th>Max Temp</th>\n",
       "    </tr>\n",
       "  </thead>\n",
       "  <tbody>\n",
       "    <tr>\n",
       "      <th>0</th>\n",
       "      <td>61.0</td>\n",
       "      <td>69.479167</td>\n",
       "      <td>78.0</td>\n",
       "    </tr>\n",
       "  </tbody>\n",
       "</table>\n",
       "</div>"
      ],
      "text/plain": [
       "   Minimum Temp  Average Temp  Max Temp\n",
       "0          61.0     69.479167      78.0"
      ]
     },
     "execution_count": 18,
     "metadata": {},
     "output_type": "execute_result"
    }
   ],
   "source": [
    "# Use your previous function `calc_temps` to calculate the tmin, tavg, and tmax \n",
    "# for your trip using the previous year's data for those same dates.\n",
    "my_vacation = (calc_temps('2016-01-15', '2016-01-30'))\n",
    "my_vacation_df = pd.DataFrame(my_vacation, columns = [\"Minimum Temp\", \"Average Temp\", \"Max Temp\"])\n",
    "my_vacation_df"
   ]
  },
  {
   "cell_type": "code",
   "execution_count": 19,
   "metadata": {},
   "outputs": [],
   "source": [
    "average = my_vacation_df[\"Average Temp\"]\n",
    "min_max = my_vacation_df[\"Minimum Temp\"]-my_vacation_df[\"Max Temp\"]"
   ]
  },
  {
   "cell_type": "code",
   "execution_count": 20,
   "metadata": {},
   "outputs": [
    {
     "data": {
      "text/plain": [
       "<matplotlib.axes._subplots.AxesSubplot at 0x1e55f94b9e8>"
      ]
     },
     "execution_count": 20,
     "metadata": {},
     "output_type": "execute_result"
    },
    {
     "data": {
      "image/png": "[encoded data removed]",
      "text/plain": [
       "<Figure size 432x288 with 1 Axes>"
      ]
     },
     "metadata": {},
     "output_type": "display_data"
    }
   ],
   "source": [
    "# Plot the results from your previous query as a bar chart. \n",
    "# Use \"Trip Avg Temp\" as your Title\n",
    "# Use the average temperature for the y value\n",
    "# Use the peak-to-peak (tmax-tmin) value as the y error bar (yerr)\n",
    "my_vacation_df.plot(kind = \"bar\", y = \"Average Temp\", legend = False, title = \"Trip Avg Temp\", yerr =min_max)"
   ]
  },
  {
   "cell_type": "code",
   "execution_count": 31,
   "metadata": {
    "scrolled": true
   },
   "outputs": [
    {
     "name": "stdout",
     "output_type": "stream",
     "text": [
      "SELECT measurement.station, station.name, measurement.date, station.latitude, station.longitude, station.elevation, sum(measurement.prcp) AS sum_1 \n",
      "FROM measurement, station \n",
      "WHERE measurement.station = station.station AND measurement.date >= :date_1 AND measurement.date <= :date_2 GROUP BY measurement.station ORDER BY sum(measurement.prcp) DESC\n",
      "USC00519281, WAIHEE 837.5, HI US, 2016-01-15, 21.45167, -157.84888999999998, 32.9, 1.35\n",
      "USC00513117, KANEOHE 838.1, HI US, 2016-01-15, 21.4234, -157.8015, 14.6, 0.64\n",
      "USC00519523, WAIMANALO EXPERIMENTAL FARM, HI US, 2016-01-15, 21.33556, -157.71139, 19.5, 0.63\n",
      "USC00514830, KUALOA RANCH HEADQUARTERS 886.9, HI US, 2016-01-15, 21.5213, -157.8374, 7.0, 0.62\n",
      "USC00516128, MANOA LYON ARBO 785.2, HI US, 2016-01-15, 21.3331, -157.8025, 152.4, 0.56\n",
      "USC00519397, WAIKIKI 717.2, HI US, 2016-01-15, 21.2716, -157.8168, 3.0, 0.22000000000000003\n",
      "USC00517948, PEARL CITY, HI US, 2016-01-20, 21.3934, -157.9751, 11.9, 0.0\n"
     ]
    }
   ],
   "source": [
    "# Calculate the total amount of rainfall per weather station for your trip dates using the previous year's matching dates.\n",
    "# Sort this in descending order by precipitation amount and list the station, name, latitude, longitude, and elevation\n",
    "rain_per_station = session.query(Measurements.station, Stations.name,  Measurements.date, Stations.latitude, Stations.longitude, Stations.elevation, func.sum(Measurements.prcp)).\\\n",
    "    filter(Measurements.station == Stations.station).filter(Measurements.date >= '2016-01-15', Measurements.date <= '2016-01-30').\\\n",
    "group_by(Measurements.station).order_by(func.sum(Measurements.prcp).desc())\n",
    "print(rain_per_station.statement.compile())\n",
    "for station, name, latitude, longitude, elevation, date, psum, in rain_per_station.all():\n",
    "    print(f\"{station}, {name}, {latitude}, {longitude}, {elevation}, {date}, {psum}\")\n",
    "\n"
   ]
  },
  {
   "cell_type": "code",
   "execution_count": 32,
   "metadata": {},
   "outputs": [
    {
     "ename": "TypeError",
     "evalue": "'method' object is not subscriptable",
     "output_type": "error",
     "traceback": [
      "\u001b[1;31m---------------------------------------------------------------------------\u001b[0m",
      "\u001b[1;31mTypeError\u001b[0m                                 Traceback (most recent call last)",
      "\u001b[1;32m<ipython-input-32-9688ae459e33>\u001b[0m in \u001b[0;36m<module>\u001b[1;34m\u001b[0m\n\u001b[0;32m      1\u001b[0m \u001b[1;31m#I don't think this counts, but here we go!\u001b[0m\u001b[1;33m\u001b[0m\u001b[1;33m\u001b[0m\u001b[1;33m\u001b[0m\u001b[0m\n\u001b[0;32m      2\u001b[0m \u001b[0mrain_per_station_df\u001b[0m \u001b[1;33m=\u001b[0m \u001b[0mpd\u001b[0m\u001b[1;33m.\u001b[0m\u001b[0mDataFrame\u001b[0m\u001b[1;33m(\u001b[0m\u001b[0mrain_per_station\u001b[0m\u001b[1;33m,\u001b[0m \u001b[0mcolumns\u001b[0m \u001b[1;33m=\u001b[0m \u001b[1;33m[\u001b[0m\u001b[1;34m\"station id\"\u001b[0m\u001b[1;33m,\u001b[0m \u001b[1;34m\"station name\"\u001b[0m\u001b[1;33m,\u001b[0m  \u001b[1;34m\"date\"\u001b[0m\u001b[1;33m,\u001b[0m \u001b[1;34m\"latitude\"\u001b[0m\u001b[1;33m,\u001b[0m \u001b[1;34m\"longitude\"\u001b[0m\u001b[1;33m,\u001b[0m \u001b[1;34m\"elevation\"\u001b[0m\u001b[1;33m,\u001b[0m \u001b[1;34m\"percipitation total\"\u001b[0m\u001b[1;33m]\u001b[0m\u001b[1;33m)\u001b[0m\u001b[1;33m\u001b[0m\u001b[1;33m\u001b[0m\u001b[0m\n\u001b[1;32m----> 3\u001b[1;33m \u001b[0mrain_per_station_df\u001b[0m \u001b[1;33m=\u001b[0m \u001b[0mrain_per_station_df\u001b[0m\u001b[1;33m.\u001b[0m\u001b[0mdrop\u001b[0m\u001b[1;33m[\u001b[0m\u001b[1;34m\"date\"\u001b[0m\u001b[1;33m]\u001b[0m\u001b[1;33m\u001b[0m\u001b[1;33m\u001b[0m\u001b[0m\n\u001b[0m\u001b[0;32m      4\u001b[0m \u001b[0mrain_per_station_df\u001b[0m\u001b[1;33m\u001b[0m\u001b[1;33m\u001b[0m\u001b[0m\n",
      "\u001b[1;31mTypeError\u001b[0m: 'method' object is not subscriptable"
     ]
    }
   ],
   "source": [
    "#I don't think this counts, but here we go!\n",
    "rain_per_station_df = pd.DataFrame(rain_per_station, columns = [\"station id\", \"station name\",  \"date\", \"latitude\", \"longitude\", \"elevation\", \"percipitation total\"])\n",
    "rain_per_station_df = rain_per_station_df.drop(columns = [\"date\"]\n",
    "rain_per_station_df"
   ]
  },
  {
   "cell_type": "code",
   "execution_count": 23,
   "metadata": {},
   "outputs": [
    {
     "data": {
      "text/plain": [
       "[(62.0, 69.15384615384616, 77.0)]"
      ]
     },
     "execution_count": 23,
     "metadata": {},
     "output_type": "execute_result"
    }
   ],
   "source": [
    "# Create a query that will calculate the daily normals \n",
    "# (i.e. the averages for tmin, tmax, and tavg for all historic data matching a specific month and day)\n",
    "\n",
    "def daily_normals(date):\n",
    "    \"\"\"Daily Normals.\n",
    "    \n",
    "    Args:\n",
    "        date (str): A date string in the format '%m-%d'\n",
    "        \n",
    "    Returns:\n",
    "        A list of tuples containing the daily normals, tmin, tavg, and tmax\n",
    "    \n",
    "    \"\"\"\n",
    "    \n",
    "    sel = [func.min(Measurements.tobs), func.avg(Measurements.tobs), func.max(Measurements.tobs)]\n",
    "    return session.query(*sel).filter(func.strftime(\"%m-%d\", Measurements.date) == date).all()\n",
    "    \n",
    "daily_normals(\"01-01\")"
   ]
  },
  {
   "cell_type": "code",
   "execution_count": 24,
   "metadata": {},
   "outputs": [],
   "source": [
    "# calculate the daily normals for your trip\n",
    "# push each tuple of calculations into a list called `normals`\n",
    "\n",
    "# Set the start and end date of the trip\n",
    "\n",
    "# Use the start and end date to create a range of dates\n",
    "\n",
    "# Stip off the year and save a list of %m-%d strings\n",
    "\n",
    "# Loop through the list of %m-%d strings and calculate the normals for each date\n"
   ]
  },
  {
   "cell_type": "code",
   "execution_count": 25,
   "metadata": {},
   "outputs": [],
   "source": [
    "# Load the previous query results into a Pandas DataFrame and add the `trip_dates` range as the `date` index\n"
   ]
  },
  {
   "cell_type": "code",
   "execution_count": 26,
   "metadata": {},
   "outputs": [],
   "source": [
    "# Plot the daily normals as an area plot with `stacked=False`\n"
   ]
  }
 ],
 "metadata": {
  "kernel_info": {
   "name": "python3"
  },
  "kernelspec": {
   "display_name": "Python 3",
   "language": "python",
   "name": "python3"
  },
  "language_info": {
   "codemirror_mode": {
    "name": "ipython",
    "version": 3
   },
   "file_extension": ".py",
   "mimetype": "text/x-python",
   "name": "python",
   "nbconvert_exporter": "python",
   "pygments_lexer": "ipython3",
   "version": "3.6.10"
  },
  "nteract": {
   "version": "0.12.3"
  },
  "varInspector": {
   "cols": {
    "lenName": 16,
    "lenType": 16,
    "lenVar": 40
   },
   "kernels_config": {
    "python": {
     "delete_cmd_postfix": "",
     "delete_cmd_prefix": "del ",
     "library": "var_list.py",
     "varRefreshCmd": "print(var_dic_list())"
    },
    "r": {
     "delete_cmd_postfix": ") ",
     "delete_cmd_prefix": "rm(",
     "library": "var_list.r",
     "varRefreshCmd": "cat(var_dic_list()) "
    }
   },
   "types_to_exclude": [
    "module",
    "function",
    "builtin_function_or_method",
    "instance",
    "_Feature"
   ],
   "window_display": false
  }
 },
 "nbformat": 4,
 "nbformat_minor": 2
}
